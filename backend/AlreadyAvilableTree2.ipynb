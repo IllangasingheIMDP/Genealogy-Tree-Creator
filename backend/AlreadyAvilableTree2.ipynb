{
  "nbformat": 4,
  "nbformat_minor": 0,
  "metadata": {
    "colab": {
      "provenance": []
    },
    "kernelspec": {
      "name": "python3",
      "display_name": "Python 3"
    },
    "language_info": {
      "name": "python"
    }
  },
  "cells": [
    {
      "cell_type": "code",
      "execution_count": null,
      "metadata": {
        "id": "1CLWhP3vbzXQ"
      },
      "outputs": [],
      "source": []
    },
    {
      "cell_type": "code",
      "source": [
        "def detect_family_tree_templates(wikitext):\n",
        "    \"\"\"\n",
        "    Returns list of matched family tree-related templates in wikitext.\n",
        "    \"\"\"\n",
        "    pattern = re.findall(\n",
        "        r\"\\{\\{(ahnentafel[^|\\n]*|family tree[^|\\n]*|tree chart[^|\\n]*|chart top[^|\\n]*|ancestry[^|\\n]*)\",\n",
        "        wikitext,\n",
        "        re.IGNORECASE\n",
        "    )\n",
        "    return list(set(pattern))  # unique matches\n"
      ],
      "metadata": {
        "id": "5UQnLX0Of3BN"
      },
      "execution_count": 2,
      "outputs": []
    },
    {
      "cell_type": "code",
      "source": [],
      "metadata": {
        "id": "x4kiOKWIiX0b"
      },
      "execution_count": null,
      "outputs": []
    },
    {
      "cell_type": "code",
      "source": [
        "def extract_template_blocks(wikitext):\n",
        "    \"\"\"\n",
        "    Extract all full template blocks related to family trees.\n",
        "    \"\"\"\n",
        "    matches = re.findall(\n",
        "        r\"\\{\\{(?:ahnentafel|family tree|tree chart|chart top|ancestry)[\\s\\S]+?\\n\\}\\}\",\n",
        "        wikitext,\n",
        "        re.IGNORECASE\n",
        "    )\n",
        "    return matches\n"
      ],
      "metadata": {
        "id": "mV83DftGf9E8"
      },
      "execution_count": 3,
      "outputs": []
    },
    {
      "cell_type": "code",
      "source": [],
      "metadata": {
        "id": "nEedMeQ6icy4"
      },
      "execution_count": null,
      "outputs": []
    },
    {
      "cell_type": "code",
      "source": [
        "def parse_template(template_text):\n",
        "    \"\"\"\n",
        "    Dispatch parsing based on template type.\n",
        "    \"\"\"\n",
        "    if \"ahnentafel\" in template_text.lower():\n",
        "        return extract_ahnentafel_relationships(template_text) + extract_spouse_relationships(template_text)\n",
        "    else:\n",
        "        print(\"⚠️ Unsupported template for now.\")\n",
        "        return []\n"
      ],
      "metadata": {
        "id": "9KbA-6AFf__p"
      },
      "execution_count": 4,
      "outputs": []
    },
    {
      "cell_type": "code",
      "source": [],
      "metadata": {
        "id": "aYlMr0-JihAZ"
      },
      "execution_count": null,
      "outputs": []
    },
    {
      "cell_type": "code",
      "source": [
        "def process_article(title):\n",
        "    \"\"\"\n",
        "    Main function to process a Wikipedia article and extract relationships.\n",
        "    \"\"\"\n",
        "    params = {\n",
        "        \"action\": \"parse\",\n",
        "        \"page\": title,\n",
        "        \"prop\": \"wikitext\",\n",
        "        \"format\": \"json\",\n",
        "    }\n",
        "    response = requests.get(\"https://en.wikipedia.org/w/api.php\", params=params).json()\n",
        "\n",
        "    if \"parse\" not in response or \"wikitext\" not in response[\"parse\"]:\n",
        "        print(\"No wikitext found.\")\n",
        "        return []\n",
        "\n",
        "    wikitext = response[\"parse\"][\"wikitext\"][\"*\"]\n",
        "    templates = detect_family_tree_templates(wikitext)\n",
        "    blocks = extract_template_blocks(wikitext)\n",
        "\n",
        "    print(f\"\\n📄 Article: {title}\")\n",
        "    print(f\"🧩 Detected templates: {templates}\")\n",
        "    if not blocks:\n",
        "        print(\"❌ No usable family tree blocks found.\")\n",
        "        return []\n",
        "\n",
        "    all_relationships = []\n",
        "    for block in blocks:\n",
        "        rels = parse_template(block)\n",
        "        all_relationships.extend(rels)\n",
        "\n",
        "    print(f\"✅ Extracted {len(all_relationships)} relationships.\\n\")\n",
        "    return all_relationships\n"
      ],
      "metadata": {
        "id": "PviTUgLhgEZr"
      },
      "execution_count": 5,
      "outputs": []
    },
    {
      "cell_type": "code",
      "source": [],
      "metadata": {
        "id": "-arVD8Bcik-i"
      },
      "execution_count": null,
      "outputs": []
    },
    {
      "cell_type": "code",
      "source": [
        "titles = [\"Charles III\", \"Elizabeth II\", \"George VI of the United Kingdom\", \"Albert Einstein\", \"Queen Victoria\"]\n",
        "\n",
        "for title in titles:\n",
        "    relationships = process_article(title)\n",
        "    for r in relationships:\n",
        "        print(f\"[{r[0]}, {r[1]}, {r[2]}]\")\n"
      ],
      "metadata": {
        "colab": {
          "base_uri": "https://localhost:8080/"
        },
        "id": "D2dAe7Q2gHsD",
        "outputId": "6435c99d-5a17-4a14-ed33-c36d17afbcd7"
      },
      "execution_count": 6,
      "outputs": [
        {
          "output_type": "stream",
          "name": "stdout",
          "text": [
            "\n",
            "📄 Article: Charles III\n",
            "🧩 Detected templates: ['ahnentafel']\n",
            "✅ Extracted 14 relationships.\n",
            "\n",
            "['''Charles III of the United Kingdom''', child of, Prince Philip, Duke of Edinburgh]\n",
            "['''Charles III of the United Kingdom''', child of, Elizabeth II of the United Kingdom]\n",
            "[Prince Philip, Duke of Edinburgh, child of, Prince Andrew of Greece and Denmark]\n",
            "[Prince Philip, Duke of Edinburgh, child of, Princess Alice of Battenberg]\n",
            "[Elizabeth II of the United Kingdom, child of, George VI of the United Kingdom]\n",
            "[Elizabeth II of the United Kingdom, child of, Lady Elizabeth Bowes-Lyon]\n",
            "[Prince Andrew of Greece and Denmark, child of, George I of Greece]\n",
            "[Prince Andrew of Greece and Denmark, child of, Grand Duchess Olga Constantinovna of Russia]\n",
            "[Princess Alice of Battenberg, child of, Prince Louis of Battenberg]\n",
            "[Princess Alice of Battenberg, child of, Princess Victoria of Hesse and by Rhine]\n",
            "[George VI of the United Kingdom, child of, George V of the United Kingdom]\n",
            "[George VI of the United Kingdom, child of, Princess Victoria Mary of Teck]\n",
            "[Lady Elizabeth Bowes-Lyon, child of, Claude Bowes-Lyon, 14th Earl of Strathmore and Kinghorne]\n",
            "[Lady Elizabeth Bowes-Lyon, child of, Cecilia Cavendish-Bentinck]\n",
            "\n",
            "📄 Article: Elizabeth II\n",
            "🧩 Detected templates: ['Ahnentafel']\n",
            "✅ Extracted 14 relationships.\n",
            "\n",
            "['''Elizabeth&nbsp;II of the United Kingdom''', child of, George&nbsp;VI of the United Kingdom]\n",
            "['''Elizabeth&nbsp;II of the United Kingdom''', child of, Lady Elizabeth Bowes-Lyon]\n",
            "[George&nbsp;VI of the United Kingdom, child of, George&nbsp;V of the United Kingdom]\n",
            "[George&nbsp;VI of the United Kingdom, child of, Princess Mary of Teck]\n",
            "[Lady Elizabeth Bowes-Lyon, child of, Claude Bowes-Lyon, 14th Earl of Strathmore and Kinghorne]\n",
            "[Lady Elizabeth Bowes-Lyon, child of, Cecilia Cavendish-Bentinck]\n",
            "[George&nbsp;V of the United Kingdom, child of, Edward&nbsp;VII of the United Kingdom]\n",
            "[George&nbsp;V of the United Kingdom, child of, Princess Alexandra of Denmark]\n",
            "[Princess Mary of Teck, child of, Francis, Duke of Teck]\n",
            "[Princess Mary of Teck, child of, Princess Mary Adelaide of Cambridge]\n",
            "[Claude Bowes-Lyon, 14th Earl of Strathmore and Kinghorne, child of, Claude Bowes-Lyon, 13th Earl of Strathmore and Kinghorne]\n",
            "[Claude Bowes-Lyon, 14th Earl of Strathmore and Kinghorne, child of, Frances Bowes-Lyon, Countess of Strathmore and Kinghorne]\n",
            "[Cecilia Cavendish-Bentinck, child of, Charles Cavendish-Bentinck]\n",
            "[Cecilia Cavendish-Bentinck, child of, Louisa Cavendish-Bentinck]\n",
            "\n",
            "📄 Article: George VI of the United Kingdom\n",
            "🧩 Detected templates: []\n",
            "❌ No usable family tree blocks found.\n",
            "\n",
            "📄 Article: Albert Einstein\n",
            "🧩 Detected templates: []\n",
            "❌ No usable family tree blocks found.\n",
            "\n",
            "📄 Article: Queen Victoria\n",
            "🧩 Detected templates: ['Tree chart/end}}', 'Tree chart', 'Ahnentafel', 'Tree chart/start}}', 'Chart top']\n",
            "⚠️ Unsupported template for now.\n",
            "⚠️ Unsupported template for now.\n",
            "⚠️ Unsupported template for now.\n",
            "⚠️ Unsupported template for now.\n",
            "⚠️ Unsupported template for now.\n",
            "⚠️ Unsupported template for now.\n",
            "⚠️ Unsupported template for now.\n",
            "⚠️ Unsupported template for now.\n",
            "⚠️ Unsupported template for now.\n",
            "⚠️ Unsupported template for now.\n",
            "⚠️ Unsupported template for now.\n",
            "⚠️ Unsupported template for now.\n",
            "⚠️ Unsupported template for now.\n",
            "⚠️ Unsupported template for now.\n",
            "⚠️ Unsupported template for now.\n",
            "⚠️ Unsupported template for now.\n",
            "⚠️ Unsupported template for now.\n",
            "⚠️ Unsupported template for now.\n",
            "⚠️ Unsupported template for now.\n",
            "⚠️ Unsupported template for now.\n",
            "⚠️ Unsupported template for now.\n",
            "⚠️ Unsupported template for now.\n",
            "✅ Extracted 14 relationships.\n",
            "\n",
            "['''Victoria of the United Kingdom''', child of, Prince Edward, Duke of Kent and Strathearn]\n",
            "['''Victoria of the United Kingdom''', child of, Princess Victoria of Saxe-Coburg-Saalfeld]\n",
            "[Prince Edward, Duke of Kent and Strathearn, child of, George III]\n",
            "[Prince Edward, Duke of Kent and Strathearn, child of, Charlotte of Mecklenburg-Strelitz]\n",
            "[Princess Victoria of Saxe-Coburg-Saalfeld, child of, Francis, Duke of Saxe-Coburg-Saalfeld]\n",
            "[Princess Victoria of Saxe-Coburg-Saalfeld, child of, Countess Augusta Reuss of Ebersdorf]\n",
            "[George III, child of, Frederick, Prince of Wales]\n",
            "[George III, child of, Princess Augusta of Saxe-Gotha]\n",
            "[Charlotte of Mecklenburg-Strelitz, child of, Duke Charles Louis Frederick of Mecklenburg]\n",
            "[Charlotte of Mecklenburg-Strelitz, child of, Princess Elisabeth Albertine of Saxe-Hildburghausen]\n",
            "[Francis, Duke of Saxe-Coburg-Saalfeld, child of, Ernest Frederick, Duke of Saxe-Coburg-Saalfeld]\n",
            "[Francis, Duke of Saxe-Coburg-Saalfeld, child of, Princess Sophie Antoinette of Brunswick-Wolfenbüttel]\n",
            "[Countess Augusta Reuss of Ebersdorf, child of, Heinrich XXIV, Count Reuss of Ebersdorf]\n",
            "[Countess Augusta Reuss of Ebersdorf, child of, Countess Karoline Ernestine of Erbach-Schönberg]\n"
          ]
        }
      ]
    }
  ]
}