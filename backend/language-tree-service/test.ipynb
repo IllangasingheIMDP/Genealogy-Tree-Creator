{
 "cells": [
  {
   "cell_type": "code",
   "execution_count": 2,
   "id": "9fafdb8a",
   "metadata": {},
   "outputs": [
    {
     "name": "stdout",
     "output_type": "stream",
     "text": [
      "No relationships found.\n"
     ]
    }
   ],
   "source": [
    "import wikipediaapi\n",
    "\n",
    "def extract_family_relationships(page, current_depth, max_depth, visited, relationships):\n",
    "    if current_depth > max_depth or page.title in visited:\n",
    "        return\n",
    "    visited.add(page.title)\n",
    "\n",
    "    # Check page sections for key family-related terms and extract linked languages\n",
    "    # Simple heuristic: look for sections like \"Classification\", \"Family\", \"Ancestor\", \"Descendants\"\n",
    "    for section in page.sections:\n",
    "        title_lower = section.title.lower()\n",
    "        if any(keyword in title_lower for keyword in ['family', 'classification', 'ancestor', 'descendant', 'dialect']):\n",
    "            # Extract linked languages from section text\n",
    "            text_links = page.links\n",
    "            for link_name in text_links:\n",
    "                if link_name.lower() != page.title.lower():\n",
    "                    # Relationship type based on section title\n",
    "                    if \"ancestor\" in title_lower:\n",
    "                        relation = \"ancestor of\"\n",
    "                        relationships.add((link_name, relation, page.title))\n",
    "                    elif \"descendant\" in title_lower or \"dialect\" in title_lower:\n",
    "                        relation = \"descendant of\"\n",
    "                        relationships.add((page.title, relation, link_name))\n",
    "                    else:\n",
    "                        relation = \"related to\"\n",
    "                        relationships.add((page.title, relation, link_name))\n",
    "\n",
    "                    # Recursive traversal\n",
    "                    linked_page = wiki_wiki.page(link_name)\n",
    "                    if linked_page.exists():\n",
    "                        extract_family_relationships(linked_page, current_depth+1, max_depth, visited, relationships)\n",
    "\n",
    "def get_language_family_tree(lang_name, depth):\n",
    "    global wiki_wiki\n",
    "    wiki_wiki = wikipediaapi.Wikipedia(user_agent='LanguageFamilyTreeBot (example@example.com)', language='en')\n",
    "    relationships = set()\n",
    "    visited = set()\n",
    "\n",
    "    page = wiki_wiki.page(lang_name)\n",
    "    if not page.exists():\n",
    "        print(f\"Wikipedia page for '{lang_name}' not found.\")\n",
    "        return []\n",
    "\n",
    "    # Extract relationships including from the main page summary and sections\n",
    "    extract_family_relationships(page, 0, depth, visited, relationships)\n",
    "\n",
    "    return relationships\n",
    "\n",
    "def main():\n",
    "    lang = input(\"Enter the language name (as in Wikipedia page title): \")\n",
    "    depth = int(input(\"Enter the depth for traversal (e.g. 2): \"))\n",
    "    results = get_language_family_tree(lang, depth)\n",
    "    if results:\n",
    "        print(\"\\nRelationships found:\")\n",
    "        for rel in results:\n",
    "            print(rel)\n",
    "    else:\n",
    "        print(\"No relationships found.\")\n",
    "\n",
    "if __name__ == \"__main__\":\n",
    "    main()\n"
   ]
  },
  {
   "cell_type": "code",
   "execution_count": null,
   "id": "fff485bc",
   "metadata": {},
   "outputs": [],
   "source": []
  }
 ],
 "metadata": {
  "kernelspec": {
   "display_name": "Python 3",
   "language": "python",
   "name": "python3"
  },
  "language_info": {
   "codemirror_mode": {
    "name": "ipython",
    "version": 3
   },
   "file_extension": ".py",
   "mimetype": "text/x-python",
   "name": "python",
   "nbconvert_exporter": "python",
   "pygments_lexer": "ipython3",
   "version": "3.11.3"
  }
 },
 "nbformat": 4,
 "nbformat_minor": 5
}
